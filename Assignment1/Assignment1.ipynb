{
 "cells": [
  {
   "cell_type": "code",
   "execution_count": 24,
   "id": "79b103e0",
   "metadata": {},
   "outputs": [
    {
     "name": "stdout",
     "output_type": "stream",
     "text": [
      "         Date       Open       High        Low      Close  Adj Close  \\\n",
      "0  2017-08-18  39.465000  39.875000  39.180000  39.375000  37.369446   \n",
      "1  2017-08-21  39.375000  39.472500  38.777500  39.302502  37.300632   \n",
      "2  2017-08-22  39.557499  40.000000  39.505001  39.945000  37.910404   \n",
      "3  2017-08-23  39.767502  40.117500  39.720001  39.994999  37.957867   \n",
      "4  2017-08-24  40.107498  40.185001  39.637501  39.817501  37.789413   \n",
      "\n",
      "      Volume  \n",
      "0  109712400  \n",
      "1  105474000  \n",
      "2   86418400  \n",
      "3   77596400  \n",
      "4   79275600  \n"
     ]
    }
   ],
   "source": [
    "import matplotlib.pyplot as plt\n",
    "import numpy as np\n",
    "import pandas as pd\n",
    "\n",
    "\n",
    "SPY = pd.read_csv(r'C:/Users/natha/OneDrive/Desktop/Coding/RSM338/RSM338-Assignment-1/data/SPY.csv')\n",
    "APPL = pd.read_csv(r'C:/Users/natha/OneDrive/Desktop/Coding/RSM338/RSM338-Assignment-1/data/AAPL.csv')\n",
    "JPM = pd.read_csv(r'C:/Users/natha/OneDrive/Desktop/Coding/RSM338/RSM338-Assignment-1/data/JPM.csv')\n",
    "df = pd.DataFrame(SPY)\n",
    "df_APPL = pd.DataFrame(APPL)\n",
    "df_JPM = pd.DataFrame(JPM)\n",
    "\n",
    "get_rows_5 = df_APPL.head(5)\n",
    "\n",
    "print(get_rows_5)"
   ]
  },
  {
   "cell_type": "code",
   "execution_count": 33,
   "id": "020191d9",
   "metadata": {},
   "outputs": [
    {
     "name": "stdout",
     "output_type": "stream",
     "text": [
      "   Adj Close\n",
      "1  -0.001841\n",
      "2   0.016347\n",
      "3   0.001252\n",
      "4  -0.004438\n",
      "5   0.003704\n",
      "   Adj Close\n",
      "1  -0.001212\n",
      "2   0.010262\n",
      "3   0.001201\n",
      "4  -0.001636\n",
      "5   0.004043\n",
      "   Adj Close\n",
      "1   0.000783\n",
      "2   0.010457\n",
      "3  -0.003585\n",
      "4  -0.002331\n",
      "5   0.002336\n"
     ]
    }
   ],
   "source": [
    "df_adj_5 = get_rows_5[['Adj Close']]\n",
    "return_APPL = pd.DataFrame.pct_change(df_APPL[['Adj Close']]).tail(-1)\n",
    "return_JPM = pd.DataFrame.pct_change(df_JPM[['Adj Close']]).tail(-1)\n",
    "return_SPY = pd.DataFrame.pct_change(df[['Adj Close']]).tail(-1)\n",
    "\n",
    "print(return_APPL.head(5))\n",
    "print(return_JPM.head(5))\n",
    "print(return_SPY.head(5))"
   ]
  },
  {
   "cell_type": "code",
   "execution_count": 32,
   "id": "ca64ca61",
   "metadata": {},
   "outputs": [
    {
     "name": "stdout",
     "output_type": "stream",
     "text": [
      "APPL Regression Coefficient Against SPY: [[1.22942371]]\n"
     ]
    }
   ],
   "source": [
    "from sklearn.linear_model import LinearRegression\n",
    "\n",
    "regre = LinearRegression().fit(X=return_SPY, y=return_APPL)\n",
    "print(\"APPL Regression Coefficient Against SPY: \" + str(regre.coef_))"
   ]
  },
  {
   "cell_type": "code",
   "execution_count": 34,
   "id": "1db83afd",
   "metadata": {},
   "outputs": [
    {
     "name": "stdout",
     "output_type": "stream",
     "text": [
      "JPM Historical Data Mean: 0.0021566467685401667\n",
      "APPL Historical Data Mean: 0.0011608128055738854\n",
      "JPM Historical Data STD: 0.009369695764873025\n",
      "APPL Historical Data STD: 0.010529392839330697\n"
     ]
    }
   ],
   "source": [
    "df_APPL_h = return_APPL.head(100)\n",
    "df_SPY_h = return_SPY.head(100)\n",
    "df_JPM_h = return_JPM.head(100)\n",
    "\n",
    "df_APPL_f = return_APPL.tail(-100)\n",
    "df_SPY_f = return_SPY.tail(-100)\n",
    "df_JPM_f = return_JPM.tail(-100)\n",
    "\n",
    "JPM_h_mean = pd.DataFrame.mean(df_JPM_h['Adj Close'])\n",
    "APPL_h_mean = pd.DataFrame.mean(df_APPL_h['Adj Close'])\n",
    "\n",
    "JPM_h_std = pd.DataFrame.std(df_JPM_h['Adj Close'])\n",
    "APPL_h_std = pd.DataFrame.std(df_APPL_h['Adj Close'])\n",
    "\n",
    "print(\"JPM Historical Data Mean: \" + str(JPM_h_mean))\n",
    "print(\"APPL Historical Data Mean: \" + str(APPL_h_mean))\n",
    "\n",
    "print(\"JPM Historical Data STD: \" + str(JPM_h_std))\n",
    "print(\"APPL Historical Data STD: \" + str(APPL_h_std))\n"
   ]
  },
  {
   "cell_type": "code",
   "execution_count": null,
   "id": "17d047c9",
   "metadata": {},
   "outputs": [
    {
     "name": "stdout",
     "output_type": "stream",
     "text": [
      "[[1.         0.66958058]\n",
      " [0.66958058 1.        ]]\n"
     ]
    }
   ],
   "source": [
    "print(np.corrcoef(df_JPM_h, df_APPL_h, False))"
   ]
  },
  {
   "cell_type": "code",
   "execution_count": 35,
   "id": "7e041fc0",
   "metadata": {},
   "outputs": [
    {
     "name": "stdout",
     "output_type": "stream",
     "text": [
      "Mean at w=0.2: 0.0008786627811039832\n",
      "Mean at w=0.4: 0.001077592230333293\n",
      "Mean at w=0.6: 0.0012765216795626018\n",
      "Mean at w=0.8: 0.0014754511287919127\n",
      "STD at w=0.2: 0.018768743306814113\n",
      "STD at w=0.4: 0.0177857311421379\n",
      "STD at w=0.6: 0.017825007988671402\n",
      "STD at w=0.8: 0.018880194859281385\n"
     ]
    }
   ],
   "source": [
    "weights = [0.2, 0.4, 0.6, 0.8]\n",
    "portfolio = [df_JPM_f, df_APPL_f]\n",
    "mean = []\n",
    "std = []\n",
    "\n",
    "for w in weights:\n",
    "    JPM_f = []\n",
    "    APPL_f = []\n",
    "    future = []\n",
    "\n",
    "    for index, column in df_JPM_f.iterrows():\n",
    "        f = column['Adj Close'] * (1-w)\n",
    "        JPM_f.append(f)\n",
    "    for index, column in df_APPL_f.iterrows():\n",
    "        f = column['Adj Close'] * w\n",
    "        APPL_f.append(f)\n",
    "    for i in range(len(JPM_f)-1):\n",
    "        future.append(JPM_f[i] + APPL_f[i])\n",
    "\n",
    "    df_f = pd.DataFrame({'Future': future})\n",
    "    \n",
    "    mean.append(pd.DataFrame.mean(df_f['Future']))\n",
    "    std.append(pd.DataFrame.std(df_f['Future']))\n",
    "\n",
    "for i in range(len(weights)):\n",
    "    print('Mean at w=' + str(weights[i]) + \": \" + str(mean[i]))\n",
    "\n",
    "for i in range(len(weights)):\n",
    "    print('STD at w=' + str(weights[i]) + \": \" + str(std[i]))"
   ]
  },
  {
   "cell_type": "code",
   "execution_count": 36,
   "id": "5e356ee1",
   "metadata": {},
   "outputs": [
    {
     "name": "stdout",
     "output_type": "stream",
     "text": [
      "Sharpe Ratio at w=0.2: 0.04681521648734889\n",
      "Sharpe Ratio at w=0.4: 0.06058745753669158\n",
      "Sharpe Ratio at w=0.6: 0.07161408737510182\n",
      "Sharpe Ratio at w=0.8: 0.07814808797201529\n"
     ]
    }
   ],
   "source": [
    "sharpe_ratio = []\n",
    "for i in range(len(mean)):\n",
    "    sharpe_ratio.append(mean[i]/std[i])\n",
    "    \n",
    "for i in range(len(weights)):\n",
    "    print('Sharpe Ratio at w=' + str(weights[i]) + \": \" + str(sharpe_ratio[i]))"
   ]
  }
 ],
 "metadata": {
  "kernelspec": {
   "display_name": "Python 3.9.12 ('base')",
   "language": "python",
   "name": "python3"
  },
  "language_info": {
   "codemirror_mode": {
    "name": "ipython",
    "version": 3
   },
   "file_extension": ".py",
   "mimetype": "text/x-python",
   "name": "python",
   "nbconvert_exporter": "python",
   "pygments_lexer": "ipython3",
   "version": "3.9.12"
  },
  "vscode": {
   "interpreter": {
    "hash": "5179d32cf6ec497baf3f8a3ef987cc77c5d2dc691fdde20a56316522f61a7323"
   }
  }
 },
 "nbformat": 4,
 "nbformat_minor": 5
}
